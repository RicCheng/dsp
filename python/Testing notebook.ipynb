{
 "cells": [
  {
   "cell_type": "code",
   "execution_count": 48,
   "metadata": {
    "collapsed": false
   },
   "outputs": [
    {
     "data": {
      "text/plain": [
       "937"
      ]
     },
     "execution_count": 48,
     "metadata": {},
     "output_type": "execute_result"
    }
   ],
   "source": [
    "# Hint:  use Google to find python function\n",
    "\n",
    "####a) \n",
    "date_start = '01-02-2013'  \n",
    "date_stop = '07-28-2015'   \n",
    "\n",
    "import datetime\n",
    "start = datetime.datetime.strptime(date_start, '%m-%d-%Y')\n",
    "end  = datetime.datetime.strptime(date_stop, '%m-%d-%Y')\n",
    "delta = end - start\n",
    "\n",
    "print delta.days"
   ]
  },
  {
   "cell_type": "code",
   "execution_count": 53,
   "metadata": {
    "collapsed": false
   },
   "outputs": [
    {
     "name": "stdout",
     "output_type": "stream",
     "text": [
      "513\n"
     ]
    }
   ],
   "source": [
    "# Hint:  use Google to find python function\n",
    "\n",
    "####b) \n",
    "date_start = '12312013'  \n",
    "date_stop = '05282015'    \n",
    "\n",
    "import datetime\n",
    "start = datetime.datetime.strptime(date_start, '%m%d%Y')\n",
    "end  = datetime.datetime.strptime(date_stop, '%m%d%Y')\n",
    "delta = end - start\n",
    "\n",
    "print delta.days"
   ]
  },
  {
   "cell_type": "code",
   "execution_count": 56,
   "metadata": {
    "collapsed": false
   },
   "outputs": [
    {
     "name": "stdout",
     "output_type": "stream",
     "text": [
      "7850\n"
     ]
    }
   ],
   "source": [
    "# Hint:  use Google to find python function\n",
    "\n",
    "####c)  \n",
    "date_start = '15-Jan-1994'  \n",
    "date_stop = '14-Jul-2015'      \n",
    "\n",
    "import datetime\n",
    "start = datetime.datetime.strptime(date_start, '%d-%b-%Y')\n",
    "end  = datetime.datetime.strptime(date_stop, '%d-%b-%Y')\n",
    "delta = end - start\n",
    "\n",
    "print delta.days"
   ]
  }
 ],
 "metadata": {
  "kernelspec": {
   "display_name": "Python 2",
   "language": "python",
   "name": "python2"
  },
  "language_info": {
   "codemirror_mode": {
    "name": "ipython",
    "version": 2
   },
   "file_extension": ".py",
   "mimetype": "text/x-python",
   "name": "python",
   "nbconvert_exporter": "python",
   "pygments_lexer": "ipython2",
   "version": "2.7.11"
  }
 },
 "nbformat": 4,
 "nbformat_minor": 0
}
