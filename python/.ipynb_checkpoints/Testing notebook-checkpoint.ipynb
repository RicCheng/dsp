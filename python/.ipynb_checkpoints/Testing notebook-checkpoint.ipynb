{
 "cells": [
  {
   "cell_type": "code",
   "execution_count": 48,
   "metadata": {
    "collapsed": false
   },
   "outputs": [
    {
     "data": {
      "text/plain": [
       "937"
      ]
     },
     "execution_count": 48,
     "metadata": {},
     "output_type": "execute_result"
    }
   ],
   "source": [
    "# Hint:  use Google to find python function\n",
    "\n",
    "####a) \n",
    "date_start = '01-02-2013'  \n",
    "date_stop = '07-28-2015'   \n",
    "\n",
    "import datetime\n",
    "start = datetime.datetime.strptime(date_start, '%m-%d-%Y')\n",
    "end  = datetime.datetime.strptime(date_stop, '%m-%d-%Y')\n",
    "delta = end - start\n",
    "\n",
    "print delta.days"
   ]
  },
  {
   "cell_type": "code",
   "execution_count": 53,
   "metadata": {
    "collapsed": false
   },
   "outputs": [
    {
     "name": "stdout",
     "output_type": "stream",
     "text": [
      "513\n"
     ]
    }
   ],
   "source": [
    "# Hint:  use Google to find python function\n",
    "\n",
    "####b) \n",
    "date_start = '12312013'  \n",
    "date_stop = '05282015'    \n",
    "\n",
    "import datetime\n",
    "start = datetime.datetime.strptime(date_start, '%m%d%Y')\n",
    "end  = datetime.datetime.strptime(date_stop, '%m%d%Y')\n",
    "delta = end - start\n",
    "\n",
    "print delta.days"
   ]
  },
  {
   "cell_type": "code",
   "execution_count": 56,
   "metadata": {
    "collapsed": false
   },
   "outputs": [
    {
     "name": "stdout",
     "output_type": "stream",
     "text": [
      "7850\n"
     ]
    }
   ],
   "source": [
    "# Hint:  use Google to find python function\n",
    "\n",
    "####c)  \n",
    "date_start = '15-Jan-1994'  \n",
    "date_stop = '14-Jul-2015'      \n",
    "\n",
    "import datetime\n",
    "start = datetime.datetime.strptime(date_start, '%d-%b-%Y')\n",
    "end  = datetime.datetime.strptime(date_stop, '%d-%b-%Y')\n",
    "delta = end - start\n",
    "\n",
    "print delta.days"
   ]
  },
  {
   "cell_type": "code",
   "execution_count": 151,
   "metadata": {
    "collapsed": false
   },
   "outputs": [],
   "source": [
    "def fix_start(s):\n",
    "    \"\"\"\n",
    "    Given a string s, return a string where all occurences of its\n",
    "    first char have been changed to '*', except do not change the\n",
    "    first char itself. e.g. 'babble' yields 'ba**le' Assume that the\n",
    "    string is length 1 or more.\n",
    "\n",
    "    >>> fix_start('babble')\n",
    "    'ba**le'\n",
    "    >>> fix_start('aardvark')\n",
    "    'a*rdv*rk'\n",
    "    >>> fix_start('google')\n",
    "    'goo*le'\n",
    "    >>> fix_start('donut')\n",
    "    'donut'\n",
    "    \"\"\"\n",
    "    d={}\n",
    "    d=d.fromkeys(s,0)\n",
    "    \n",
    "    for i in s:\n",
    "        d[i] +=1\n",
    "map(lambda x: d[x]==1 ,s)    \n",
    "    "
   ]
  },
  {
   "cell_type": "code",
   "execution_count": null,
   "metadata": {
    "collapsed": true
   },
   "outputs": [],
   "source": []
  },
  {
   "cell_type": "code",
   "execution_count": null,
   "metadata": {
    "collapsed": false,
    "scrolled": true
   },
   "outputs": [],
   "source": []
  },
  {
   "cell_type": "code",
   "execution_count": null,
   "metadata": {
    "collapsed": false
   },
   "outputs": [],
   "source": []
  },
  {
   "cell_type": "code",
   "execution_count": 683,
   "metadata": {
    "collapsed": false
   },
   "outputs": [
    {
     "data": {
      "text/plain": [
       "str"
      ]
     },
     "execution_count": 683,
     "metadata": {},
     "output_type": "execute_result"
    }
   ],
   "source": [
    "import csv\n",
    "file = open('football.csv', 'r')\n",
    "reader = csv.reader(file)\n",
    "data = list(reader)\n",
    "\n",
    "team_count = len(data)-1\n",
    "team_data = [[data[i+1][0], int(0)] for i in range(team_count)]\n",
    "\n",
    "for i in range(team_count):\n",
    "    team_data[i][1] = int(data[i+1][5])-int(data[i+1][6])\n",
    "    \n",
    "type(team_data[1][0])"
   ]
  },
  {
   "cell_type": "code",
   "execution_count": 677,
   "metadata": {
    "collapsed": false
   },
   "outputs": [
    {
     "data": {
      "text/plain": [
       "43"
      ]
     },
     "execution_count": 677,
     "metadata": {},
     "output_type": "execute_result"
    }
   ],
   "source": [
    "int(data[1][5]) - int(data[1][6])"
   ]
  },
  {
   "cell_type": "code",
   "execution_count": 656,
   "metadata": {
    "collapsed": false
   },
   "outputs": [
    {
     "ename": "TypeError",
     "evalue": "can only concatenate list (not \"int\") to list",
     "output_type": "error",
     "traceback": [
      "\u001b[0;31m---------------------------------------------------------------------------\u001b[0m",
      "\u001b[0;31mTypeError\u001b[0m                                 Traceback (most recent call last)",
      "\u001b[0;32m<ipython-input-656-5796b574127a>\u001b[0m in \u001b[0;36m<module>\u001b[0;34m()\u001b[0m\n\u001b[0;32m----> 1\u001b[0;31m \u001b[0mrange\u001b[0m\u001b[0;34m(\u001b[0m\u001b[0mteam_count\u001b[0m\u001b[0;34m)\u001b[0m \u001b[0;34m+\u001b[0m\u001b[0;36m1\u001b[0m\u001b[0;34m\u001b[0m\u001b[0m\n\u001b[0m",
      "\u001b[0;31mTypeError\u001b[0m: can only concatenate list (not \"int\") to list"
     ]
    }
   ],
   "source": [
    "range(team_count) +1"
   ]
  },
  {
   "cell_type": "code",
   "execution_count": null,
   "metadata": {
    "collapsed": true
   },
   "outputs": [],
   "source": []
  },
  {
   "cell_type": "code",
   "execution_count": 591,
   "metadata": {
    "collapsed": false
   },
   "outputs": [
    {
     "data": {
      "text/plain": [
       "[(0, 3), (1, 2), (2, 3), (3, 3), (4, 3)]"
      ]
     },
     "execution_count": 591,
     "metadata": {},
     "output_type": "execute_result"
    }
   ],
   "source": [
    "number = [3, 2, 3, 3, 3]\n",
    "list(enumerate(number))"
   ]
  }
 ],
 "metadata": {
  "kernelspec": {
   "display_name": "Python 2",
   "language": "python",
   "name": "python2"
  },
  "language_info": {
   "codemirror_mode": {
    "name": "ipython",
    "version": 2
   },
   "file_extension": ".py",
   "mimetype": "text/x-python",
   "name": "python",
   "nbconvert_exporter": "python",
   "pygments_lexer": "ipython2",
   "version": "2.7.11"
  }
 },
 "nbformat": 4,
 "nbformat_minor": 0
}
